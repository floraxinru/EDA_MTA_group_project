{
 "cells": [
  {
   "cell_type": "markdown",
   "metadata": {},
   "source": [
    "# Cleaning MTA  Data Into Something Usable                        \n",
    "  "
   ]
  },
  {
   "cell_type": "code",
   "execution_count": 1,
   "metadata": {},
   "outputs": [],
   "source": [
    "import pandas as pd\n",
    "import numpy as np\n",
    "import matplotlib.pyplot as plt\n",
    "import seaborn as sns "
   ]
  },
  {
   "cell_type": "code",
   "execution_count": 2,
   "metadata": {},
   "outputs": [],
   "source": [
    "# Makes data frames of corresponding week data.\n",
    "# The data ends with the last day of the file name.\n",
    "\n",
    "df1 = pd.read_csv('/Users/luken2/Documents/GitHub/project01/project1/data/june82019.txt')\n",
    "df2 = pd.read_csv('/Users/luken2/Documents/GitHub/project01/project1/data/june12019.txt')\n",
    "df3 = pd.read_csv('/Users/luken2/Documents/GitHub/project01/project1/data/may252019.txt')\n",
    "df4 = pd.read_csv('/Users/luken2/Documents/GitHub/project01/project1/data/may182019.txt')\n",
    "df5 = pd.read_csv('/Users/luken2/Documents/GitHub/project01/project1/data/may112019.txt')\n",
    "df6 = pd.read_csv('/Users/luken2/Documents/GitHub/project01/project1/data/may42019.txt')"
   ]
  },
  {
   "cell_type": "code",
   "execution_count": 3,
   "metadata": {},
   "outputs": [],
   "source": [
    "# Creating Datetime column from date and time columns\n",
    "\n",
    "df1['DATETIME'] = df1['DATE'] + ' ' + df1['TIME']\n",
    "df2['DATETIME'] = df2['DATE'] + ' ' + df2['TIME']\n",
    "df3['DATETIME'] = df3['DATE'] + ' ' + df3['TIME']\n",
    "df4['DATETIME'] = df4['DATE'] + ' ' + df4['TIME']\n",
    "df5['DATETIME'] = df5['DATE'] + ' ' + df5['TIME']\n",
    "df6['DATETIME'] = df6['DATE'] + ' ' + df6['TIME']"
   ]
  },
  {
   "cell_type": "code",
   "execution_count": 4,
   "metadata": {},
   "outputs": [],
   "source": [
    "df1['DATETIME'] = pd.to_datetime(df1['DATETIME'])\n",
    "df2['DATETIME'] = pd.to_datetime(df2['DATETIME'])"
   ]
  },
  {
   "cell_type": "code",
   "execution_count": 5,
   "metadata": {},
   "outputs": [],
   "source": [
    "df3['DATETIME'] = pd.to_datetime(df3['DATETIME'])\n",
    "df4['DATETIME'] = pd.to_datetime(df4['DATETIME'])"
   ]
  },
  {
   "cell_type": "code",
   "execution_count": 6,
   "metadata": {},
   "outputs": [],
   "source": [
    "df5['DATETIME'] = pd.to_datetime(df5['DATETIME'])\n",
    "df6['DATETIME'] = pd.to_datetime(df6['DATETIME'])"
   ]
  },
  {
   "cell_type": "code",
   "execution_count": 7,
   "metadata": {},
   "outputs": [],
   "source": [
    "# Getting rid of unnecessary columns\n",
    "\n",
    "df1 = df1[['C/A', 'UNIT', 'SCP', 'STATION','DATE', 'ENTRIES', 'DATETIME']]\n",
    "df2 = df2[['C/A', 'UNIT', 'SCP', 'STATION','DATE', 'ENTRIES', 'DATETIME']]\n",
    "df3 = df3[['C/A', 'UNIT', 'SCP', 'STATION','DATE', 'ENTRIES', 'DATETIME']]\n",
    "df4 = df4[['C/A', 'UNIT', 'SCP', 'STATION','DATE', 'ENTRIES', 'DATETIME']]\n",
    "df5 = df5[['C/A', 'UNIT', 'SCP', 'STATION','DATE', 'ENTRIES', 'DATETIME']]\n",
    "df6 = df6[['C/A', 'UNIT', 'SCP', 'STATION','DATE', 'ENTRIES', 'DATETIME']]"
   ]
  },
  {
   "cell_type": "code",
   "execution_count": 8,
   "metadata": {},
   "outputs": [],
   "source": [
    "# Creating new column for day of the week using pandas datetime function\n",
    "\n",
    "df1['DAY_OF_WEEK'] = df1['DATETIME'].dt.day_name()\n",
    "df2['DAY_OF_WEEK'] = df2['DATETIME'].dt.day_name()\n",
    "df3['DAY_OF_WEEK'] = df3['DATETIME'].dt.day_name()\n",
    "df4['DAY_OF_WEEK'] = df4['DATETIME'].dt.day_name()\n",
    "df5['DAY_OF_WEEK'] = df5['DATETIME'].dt.day_name()\n",
    "df6['DAY_OF_WEEK'] = df6['DATETIME'].dt.day_name()"
   ]
  },
  {
   "cell_type": "code",
   "execution_count": 9,
   "metadata": {},
   "outputs": [],
   "source": [
    "# Cleaning data.  Getting rid of outliers, capping top because if turnstiles\n",
    "# over 1 million reset during a week it will look as if over 1 million \n",
    "# people run through certain stations and filtering this way \n",
    "# to avoid resetting turnstiles skewing data in general.\n",
    "# Found that all turnstiles reset over 1 million so this works\n",
    "# Cleaned out ~6% of total data\n",
    "\n",
    "df1 = df1.loc[df1['ENTRIES'].apply(lambda x: x > 10000 and x < 1000000)]\n",
    "df2 = df2.loc[df2['ENTRIES'].apply(lambda x: x > 10000 and x < 1000000)]\n",
    "df3 = df3.loc[df3['ENTRIES'].apply(lambda x: x > 10000 and x < 1000000)]\n",
    "df4 = df4.loc[df4['ENTRIES'].apply(lambda x: x > 10000 and x < 1000000)]\n",
    "df5 = df5.loc[df5['ENTRIES'].apply(lambda x: x > 10000 and x < 1000000)]\n",
    "df6 = df6.loc[df6['ENTRIES'].apply(lambda x: x > 10000 and x < 1000000)]"
   ]
  },
  {
   "cell_type": "code",
   "execution_count": 10,
   "metadata": {},
   "outputs": [
    {
     "data": {
      "text/html": [
       "<div>\n",
       "<style scoped>\n",
       "    .dataframe tbody tr th:only-of-type {\n",
       "        vertical-align: middle;\n",
       "    }\n",
       "\n",
       "    .dataframe tbody tr th {\n",
       "        vertical-align: top;\n",
       "    }\n",
       "\n",
       "    .dataframe thead th {\n",
       "        text-align: right;\n",
       "    }\n",
       "</style>\n",
       "<table border=\"1\" class=\"dataframe\">\n",
       "  <thead>\n",
       "    <tr style=\"text-align: right;\">\n",
       "      <th></th>\n",
       "      <th>C/A</th>\n",
       "      <th>UNIT</th>\n",
       "      <th>SCP</th>\n",
       "      <th>STATION</th>\n",
       "      <th>DATE</th>\n",
       "      <th>DAY_OF_WEEK</th>\n",
       "      <th>ENTRIES</th>\n",
       "      <th>DATETIME</th>\n",
       "    </tr>\n",
       "  </thead>\n",
       "  <tbody>\n",
       "    <tr>\n",
       "      <th>0</th>\n",
       "      <td>A002</td>\n",
       "      <td>R051</td>\n",
       "      <td>02-06-00</td>\n",
       "      <td>59 ST</td>\n",
       "      <td>06/01/2019</td>\n",
       "      <td>Saturday</td>\n",
       "      <td>212683</td>\n",
       "      <td>2019-06-01 20:00:00</td>\n",
       "    </tr>\n",
       "    <tr>\n",
       "      <th>1</th>\n",
       "      <td>A002</td>\n",
       "      <td>R051</td>\n",
       "      <td>02-06-00</td>\n",
       "      <td>59 ST</td>\n",
       "      <td>06/02/2019</td>\n",
       "      <td>Sunday</td>\n",
       "      <td>213241</td>\n",
       "      <td>2019-06-02 20:00:00</td>\n",
       "    </tr>\n",
       "    <tr>\n",
       "      <th>2</th>\n",
       "      <td>A002</td>\n",
       "      <td>R051</td>\n",
       "      <td>02-06-00</td>\n",
       "      <td>59 ST</td>\n",
       "      <td>06/03/2019</td>\n",
       "      <td>Monday</td>\n",
       "      <td>214603</td>\n",
       "      <td>2019-06-03 20:00:00</td>\n",
       "    </tr>\n",
       "    <tr>\n",
       "      <th>3</th>\n",
       "      <td>A002</td>\n",
       "      <td>R051</td>\n",
       "      <td>02-06-00</td>\n",
       "      <td>59 ST</td>\n",
       "      <td>06/04/2019</td>\n",
       "      <td>Tuesday</td>\n",
       "      <td>216087</td>\n",
       "      <td>2019-06-04 20:00:00</td>\n",
       "    </tr>\n",
       "    <tr>\n",
       "      <th>4</th>\n",
       "      <td>A002</td>\n",
       "      <td>R051</td>\n",
       "      <td>02-06-00</td>\n",
       "      <td>59 ST</td>\n",
       "      <td>06/05/2019</td>\n",
       "      <td>Wednesday</td>\n",
       "      <td>217522</td>\n",
       "      <td>2019-06-05 20:00:00</td>\n",
       "    </tr>\n",
       "  </tbody>\n",
       "</table>\n",
       "</div>"
      ],
      "text/plain": [
       "    C/A  UNIT       SCP STATION        DATE DAY_OF_WEEK  ENTRIES  \\\n",
       "0  A002  R051  02-06-00   59 ST  06/01/2019    Saturday   212683   \n",
       "1  A002  R051  02-06-00   59 ST  06/02/2019      Sunday   213241   \n",
       "2  A002  R051  02-06-00   59 ST  06/03/2019      Monday   214603   \n",
       "3  A002  R051  02-06-00   59 ST  06/04/2019     Tuesday   216087   \n",
       "4  A002  R051  02-06-00   59 ST  06/05/2019   Wednesday   217522   \n",
       "\n",
       "             DATETIME  \n",
       "0 2019-06-01 20:00:00  \n",
       "1 2019-06-02 20:00:00  \n",
       "2 2019-06-03 20:00:00  \n",
       "3 2019-06-04 20:00:00  \n",
       "4 2019-06-05 20:00:00  "
      ]
     },
     "execution_count": 10,
     "metadata": {},
     "output_type": "execute_result"
    }
   ],
   "source": [
    "# Getting values of entries on each day for each turnstile, Unit, C/A, \n",
    "# and Station by getting max value of entries each day in order to\n",
    "# not double count Cumulative data\n",
    "\n",
    "df1_sorted = df1.groupby(['C/A', 'UNIT', 'SCP', 'STATION', 'DATE', 'DAY_OF_WEEK'], as_index=False).max()\n",
    "df2_sorted = df2.groupby(['C/A', 'UNIT', 'SCP', 'STATION', 'DATE', 'DAY_OF_WEEK'], as_index=False).max()\n",
    "df3_sorted = df3.groupby(['C/A', 'UNIT', 'SCP', 'STATION', 'DATE', 'DAY_OF_WEEK'], as_index=False).max()\n",
    "df4_sorted = df4.groupby(['C/A', 'UNIT', 'SCP', 'STATION', 'DATE', 'DAY_OF_WEEK'], as_index=False).max()\n",
    "df5_sorted = df5.groupby(['C/A', 'UNIT', 'SCP', 'STATION', 'DATE', 'DAY_OF_WEEK'], as_index=False).max()\n",
    "df6_sorted = df6.groupby(['C/A', 'UNIT', 'SCP', 'STATION', 'DATE', 'DAY_OF_WEEK'], as_index=False).max()\n",
    "df1_sorted.head()"
   ]
  },
  {
   "cell_type": "code",
   "execution_count": 11,
   "metadata": {},
   "outputs": [],
   "source": [
    "# Grouping by Station and getting the max entry value for \n",
    "# each turnstile during a week\n",
    "df1_max = df1_sorted.groupby(['C/A', 'UNIT', 'SCP', 'STATION'], as_index=False).max()\n",
    "df2_max = df2_sorted.groupby(['C/A', 'UNIT', 'SCP', 'STATION'], as_index=False).max()\n",
    "df3_max = df3_sorted.groupby(['C/A', 'UNIT', 'SCP', 'STATION'], as_index=False).max()\n",
    "df4_max = df4_sorted.groupby(['C/A', 'UNIT', 'SCP', 'STATION'], as_index=False).max()\n",
    "df5_max = df5_sorted.groupby(['C/A', 'UNIT', 'SCP', 'STATION'], as_index=False).max()\n",
    "df6_max = df6_sorted.groupby(['C/A', 'UNIT', 'SCP', 'STATION'], as_index=False).max()"
   ]
  },
  {
   "cell_type": "code",
   "execution_count": 12,
   "metadata": {},
   "outputs": [
    {
     "name": "stdout",
     "output_type": "stream",
     "text": [
      "<class 'pandas.core.frame.DataFrame'>\n",
      "RangeIndex: 1469 entries, 0 to 1468\n",
      "Data columns (total 8 columns):\n",
      "C/A            1469 non-null object\n",
      "UNIT           1469 non-null object\n",
      "SCP            1469 non-null object\n",
      "STATION        1469 non-null object\n",
      "DATE           1469 non-null object\n",
      "DAY_OF_WEEK    1469 non-null object\n",
      "ENTRIES        1469 non-null int64\n",
      "DATETIME       1469 non-null datetime64[ns]\n",
      "dtypes: datetime64[ns](1), int64(1), object(6)\n",
      "memory usage: 91.9+ KB\n"
     ]
    }
   ],
   "source": [
    "df2_max.info()"
   ]
  },
  {
   "cell_type": "code",
   "execution_count": 13,
   "metadata": {
    "scrolled": true
   },
   "outputs": [],
   "source": [
    "# Grouping by Station and getting the min entry value for \n",
    "# each turnstile during a week\n",
    "\n",
    "df1_min = df1_sorted.groupby(['C/A', 'UNIT', 'SCP', 'STATION'], as_index=False).min()\n",
    "df2_min = df2_sorted.groupby(['C/A', 'UNIT', 'SCP', 'STATION'], as_index=False).min()\n",
    "df3_min = df3_sorted.groupby(['C/A', 'UNIT', 'SCP', 'STATION'], as_index=False).min()\n",
    "df4_min = df4_sorted.groupby(['C/A', 'UNIT', 'SCP', 'STATION'], as_index=False).min()\n",
    "df5_min = df5_sorted.groupby(['C/A', 'UNIT', 'SCP', 'STATION'], as_index=False).min()\n",
    "df6_min = df6_sorted.groupby(['C/A', 'UNIT', 'SCP', 'STATION'], as_index=False).min()"
   ]
  },
  {
   "cell_type": "code",
   "execution_count": 14,
   "metadata": {},
   "outputs": [
    {
     "name": "stdout",
     "output_type": "stream",
     "text": [
      "<class 'pandas.core.frame.DataFrame'>\n",
      "RangeIndex: 1469 entries, 0 to 1468\n",
      "Data columns (total 8 columns):\n",
      "C/A            1469 non-null object\n",
      "UNIT           1469 non-null object\n",
      "SCP            1469 non-null object\n",
      "STATION        1469 non-null object\n",
      "DATE           1469 non-null object\n",
      "DAY_OF_WEEK    1469 non-null object\n",
      "ENTRIES        1469 non-null int64\n",
      "DATETIME       1469 non-null datetime64[ns]\n",
      "dtypes: datetime64[ns](1), int64(1), object(6)\n",
      "memory usage: 91.9+ KB\n"
     ]
    }
   ],
   "source": [
    "df2_min.info()"
   ]
  },
  {
   "cell_type": "code",
   "execution_count": 15,
   "metadata": {},
   "outputs": [],
   "source": [
    "# Getting net values for each turnstile during a week\n",
    "\n",
    "df1_max['NET'] = df1_max['ENTRIES'] - df1_min['ENTRIES']\n",
    "df2_max['NET'] = df2_max['ENTRIES'] - df2_min['ENTRIES']\n",
    "df3_max['NET'] = df3_max['ENTRIES'] - df3_min['ENTRIES']\n",
    "df4_max['NET'] = df4_max['ENTRIES'] - df4_min['ENTRIES']\n",
    "df5_max['NET'] = df5_max['ENTRIES'] - df5_min['ENTRIES']\n",
    "df6_max['NET'] = df6_max['ENTRIES'] - df6_min['ENTRIES']"
   ]
  },
  {
   "cell_type": "code",
   "execution_count": 16,
   "metadata": {},
   "outputs": [],
   "source": [
    "# Getting rid of unnecessary columns\n",
    "\n",
    "df1_discrete = df1_max.drop(columns=['DATE', 'DAY_OF_WEEK', 'ENTRIES', 'DATETIME'])\n",
    "df2_discrete = df2_max.drop(columns=['DATE', 'DAY_OF_WEEK', 'ENTRIES', 'DATETIME'])\n",
    "df3_discrete = df3_max.drop(columns=['DATE', 'DAY_OF_WEEK', 'ENTRIES', 'DATETIME'])\n",
    "df4_discrete = df4_max.drop(columns=['DATE', 'DAY_OF_WEEK', 'ENTRIES', 'DATETIME'])\n",
    "df5_discrete = df5_max.drop(columns=['DATE', 'DAY_OF_WEEK', 'ENTRIES', 'DATETIME'])\n",
    "df6_discrete = df6_max.drop(columns=['DATE', 'DAY_OF_WEEK', 'ENTRIES', 'DATETIME'])"
   ]
  },
  {
   "cell_type": "code",
   "execution_count": 17,
   "metadata": {},
   "outputs": [],
   "source": [
    "# Summing each stations turnstiles for a total traffic value\n",
    "# for each station\n",
    "\n",
    "df1_discrete_by_station = df1_discrete.groupby(['UNIT', 'STATION'], as_index=False).sum()\n",
    "df2_discrete_by_station = df2_discrete.groupby(['UNIT', 'STATION'], as_index=False).sum()\n",
    "df3_discrete_by_station = df3_discrete.groupby(['UNIT', 'STATION'], as_index=False).sum()\n",
    "df4_discrete_by_station = df4_discrete.groupby(['UNIT', 'STATION'], as_index=False).sum()\n",
    "df5_discrete_by_station = df5_discrete.groupby(['UNIT', 'STATION'], as_index=False).sum()\n",
    "df6_discrete_by_station = df6_discrete.groupby(['UNIT', 'STATION'], as_index=False).sum()"
   ]
  },
  {
   "cell_type": "code",
   "execution_count": 18,
   "metadata": {},
   "outputs": [],
   "source": [
    "# sorting stations by highest net traffic\n",
    "\n",
    "df1_discrete_by_station_top = df1_discrete_by_station.sort_values(by=['NET'], ascending = False)\n",
    "df2_discrete_by_station_top = df2_discrete_by_station.sort_values(by=['NET'], ascending = False)\n",
    "df3_discrete_by_station_top = df3_discrete_by_station.sort_values(by=['NET'], ascending = False)\n",
    "df4_discrete_by_station_top = df4_discrete_by_station.sort_values(by=['NET'], ascending = False)\n",
    "df5_discrete_by_station_top = df5_discrete_by_station.sort_values(by=['NET'], ascending = False)\n",
    "df6_discrete_by_station_top = df6_discrete_by_station.sort_values(by=['NET'], ascending = False)"
   ]
  },
  {
   "cell_type": "code",
   "execution_count": 19,
   "metadata": {},
   "outputs": [],
   "source": [
    "# Top 25 stations for each week\n",
    "# Not necessary \n",
    "df1_discrete_by_station_top25 = df1_discrete_by_station_top.head(25)\n",
    "df2_discrete_by_station_top25 = df2_discrete_by_station_top.head(25)\n",
    "df3_discrete_by_station_top25 = df3_discrete_by_station_top.head(25)\n",
    "df4_discrete_by_station_top25 = df4_discrete_by_station_top.head(25)\n",
    "df5_discrete_by_station_top25 = df5_discrete_by_station_top.head(25)\n",
    "df6_discrete_by_station_top25 = df6_discrete_by_station_top.head(25)"
   ]
  },
  {
   "cell_type": "code",
   "execution_count": 20,
   "metadata": {},
   "outputs": [
    {
     "data": {
      "text/html": [
       "<div>\n",
       "<style scoped>\n",
       "    .dataframe tbody tr th:only-of-type {\n",
       "        vertical-align: middle;\n",
       "    }\n",
       "\n",
       "    .dataframe tbody tr th {\n",
       "        vertical-align: top;\n",
       "    }\n",
       "\n",
       "    .dataframe thead th {\n",
       "        text-align: right;\n",
       "    }\n",
       "</style>\n",
       "<table border=\"1\" class=\"dataframe\">\n",
       "  <thead>\n",
       "    <tr style=\"text-align: right;\">\n",
       "      <th></th>\n",
       "      <th>UNIT</th>\n",
       "      <th>STATION</th>\n",
       "      <th>NET</th>\n",
       "    </tr>\n",
       "  </thead>\n",
       "  <tbody>\n",
       "    <tr>\n",
       "      <th>30</th>\n",
       "      <td>R033</td>\n",
       "      <td>TIMES SQ-42 ST</td>\n",
       "      <td>859404</td>\n",
       "    </tr>\n",
       "    <tr>\n",
       "      <th>340</th>\n",
       "      <td>R461</td>\n",
       "      <td>B'WAY-LAFAYETTE</td>\n",
       "      <td>641734</td>\n",
       "    </tr>\n",
       "    <tr>\n",
       "      <th>347</th>\n",
       "      <td>R540</td>\n",
       "      <td>PATH NEW WTC</td>\n",
       "      <td>301884</td>\n",
       "    </tr>\n",
       "    <tr>\n",
       "      <th>365</th>\n",
       "      <td>R552</td>\n",
       "      <td>JOURNAL SQUARE</td>\n",
       "      <td>127506</td>\n",
       "    </tr>\n",
       "    <tr>\n",
       "      <th>9</th>\n",
       "      <td>R012</td>\n",
       "      <td>34 ST-PENN STA</td>\n",
       "      <td>126391</td>\n",
       "    </tr>\n",
       "  </tbody>\n",
       "</table>\n",
       "</div>"
      ],
      "text/plain": [
       "     UNIT          STATION     NET\n",
       "30   R033   TIMES SQ-42 ST  859404\n",
       "340  R461  B'WAY-LAFAYETTE  641734\n",
       "347  R540     PATH NEW WTC  301884\n",
       "365  R552   JOURNAL SQUARE  127506\n",
       "9    R012   34 ST-PENN STA  126391"
      ]
     },
     "execution_count": 20,
     "metadata": {},
     "output_type": "execute_result"
    }
   ],
   "source": [
    "df5_discrete_by_station_top.head()"
   ]
  },
  {
   "cell_type": "code",
   "execution_count": 21,
   "metadata": {},
   "outputs": [],
   "source": [
    "##### One dataframe for top stations of 6 weeks\n",
    "\n",
    "DF = pd.concat([df1_discrete_by_station_top, df2_discrete_by_station_top, df3_discrete_by_station_top, df4_discrete_by_station_top, df5_discrete_by_station_top, df6_discrete_by_station_top], ignore_index=True)"
   ]
  },
  {
   "cell_type": "code",
   "execution_count": 22,
   "metadata": {},
   "outputs": [
    {
     "data": {
      "text/html": [
       "<div>\n",
       "<style scoped>\n",
       "    .dataframe tbody tr th:only-of-type {\n",
       "        vertical-align: middle;\n",
       "    }\n",
       "\n",
       "    .dataframe tbody tr th {\n",
       "        vertical-align: top;\n",
       "    }\n",
       "\n",
       "    .dataframe thead th {\n",
       "        text-align: right;\n",
       "    }\n",
       "</style>\n",
       "<table border=\"1\" class=\"dataframe\">\n",
       "  <thead>\n",
       "    <tr style=\"text-align: right;\">\n",
       "      <th></th>\n",
       "      <th>UNIT</th>\n",
       "      <th>STATION</th>\n",
       "      <th>NET</th>\n",
       "    </tr>\n",
       "  </thead>\n",
       "  <tbody>\n",
       "    <tr>\n",
       "      <th>0</th>\n",
       "      <td>R540</td>\n",
       "      <td>PATH NEW WTC</td>\n",
       "      <td>725868</td>\n",
       "    </tr>\n",
       "    <tr>\n",
       "      <th>1</th>\n",
       "      <td>R462</td>\n",
       "      <td>CANAL ST</td>\n",
       "      <td>489304</td>\n",
       "    </tr>\n",
       "    <tr>\n",
       "      <th>2</th>\n",
       "      <td>R012</td>\n",
       "      <td>34 ST-PENN STA</td>\n",
       "      <td>312997</td>\n",
       "    </tr>\n",
       "    <tr>\n",
       "      <th>3</th>\n",
       "      <td>R552</td>\n",
       "      <td>JOURNAL SQUARE</td>\n",
       "      <td>110305</td>\n",
       "    </tr>\n",
       "    <tr>\n",
       "      <th>4</th>\n",
       "      <td>R551</td>\n",
       "      <td>GROVE STREET</td>\n",
       "      <td>101913</td>\n",
       "    </tr>\n",
       "  </tbody>\n",
       "</table>\n",
       "</div>"
      ],
      "text/plain": [
       "   UNIT         STATION     NET\n",
       "0  R540    PATH NEW WTC  725868\n",
       "1  R462        CANAL ST  489304\n",
       "2  R012  34 ST-PENN STA  312997\n",
       "3  R552  JOURNAL SQUARE  110305\n",
       "4  R551    GROVE STREET  101913"
      ]
     },
     "execution_count": 22,
     "metadata": {},
     "output_type": "execute_result"
    }
   ],
   "source": [
    "DF.head()"
   ]
  },
  {
   "cell_type": "code",
   "execution_count": 23,
   "metadata": {},
   "outputs": [],
   "source": [
    "# DF['STATION'].value_counts()"
   ]
  },
  {
   "cell_type": "code",
   "execution_count": 24,
   "metadata": {},
   "outputs": [],
   "source": [
    "DF_stations_mean = DF.groupby(['UNIT', 'STATION'], as_index=False).mean()"
   ]
  },
  {
   "cell_type": "code",
   "execution_count": 25,
   "metadata": {},
   "outputs": [],
   "source": [
    "DF_Final = DF_stations_mean.sort_values(by=['NET'], ascending = False)\n",
    "DF_Final_25 = DF_Final.head(25)\n",
    "DF_Final_15 = DF_Final.head(15)"
   ]
  },
  {
   "cell_type": "code",
   "execution_count": 46,
   "metadata": {},
   "outputs": [
    {
     "data": {
      "text/html": [
       "<div>\n",
       "<style scoped>\n",
       "    .dataframe tbody tr th:only-of-type {\n",
       "        vertical-align: middle;\n",
       "    }\n",
       "\n",
       "    .dataframe tbody tr th {\n",
       "        vertical-align: top;\n",
       "    }\n",
       "\n",
       "    .dataframe thead th {\n",
       "        text-align: right;\n",
       "    }\n",
       "</style>\n",
       "<table border=\"1\" class=\"dataframe\">\n",
       "  <thead>\n",
       "    <tr style=\"text-align: right;\">\n",
       "      <th></th>\n",
       "      <th>UNIT</th>\n",
       "      <th>STATION</th>\n",
       "      <th>NET</th>\n",
       "    </tr>\n",
       "  </thead>\n",
       "  <tbody>\n",
       "    <tr>\n",
       "      <th>354</th>\n",
       "      <td>R540</td>\n",
       "      <td>PATH NEW WTC</td>\n",
       "      <td>372601.833333</td>\n",
       "    </tr>\n",
       "    <tr>\n",
       "      <th>30</th>\n",
       "      <td>R033</td>\n",
       "      <td>TIMES SQ-42 ST</td>\n",
       "      <td>164913.666667</td>\n",
       "    </tr>\n",
       "    <tr>\n",
       "      <th>9</th>\n",
       "      <td>R012</td>\n",
       "      <td>34 ST-PENN STA</td>\n",
       "      <td>156291.000000</td>\n",
       "    </tr>\n",
       "    <tr>\n",
       "      <th>347</th>\n",
       "      <td>R461</td>\n",
       "      <td>B'WAY-LAFAYETTE</td>\n",
       "      <td>150385.000000</td>\n",
       "    </tr>\n",
       "    <tr>\n",
       "      <th>371</th>\n",
       "      <td>R551</td>\n",
       "      <td>GROVE STREET</td>\n",
       "      <td>124164.166667</td>\n",
       "    </tr>\n",
       "  </tbody>\n",
       "</table>\n",
       "</div>"
      ],
      "text/plain": [
       "     UNIT          STATION            NET\n",
       "354  R540     PATH NEW WTC  372601.833333\n",
       "30   R033   TIMES SQ-42 ST  164913.666667\n",
       "9    R012   34 ST-PENN STA  156291.000000\n",
       "347  R461  B'WAY-LAFAYETTE  150385.000000\n",
       "371  R551     GROVE STREET  124164.166667"
      ]
     },
     "execution_count": 46,
     "metadata": {},
     "output_type": "execute_result"
    }
   ],
   "source": [
    "DF_Final_25.head()"
   ]
  },
  {
   "cell_type": "code",
   "execution_count": 28,
   "metadata": {},
   "outputs": [],
   "source": [
    "# Making csv file of top 25 stations for end april - mid june\n",
    "\n",
    "DF_Final_25.to_csv('/Users/luken2/Documents/GitHub/project01/project1/data/May_June_top_25.csv',index=False)"
   ]
  },
  {
   "cell_type": "code",
   "execution_count": 29,
   "metadata": {},
   "outputs": [],
   "source": [
    "# Used to find which units in stations had the most traffic\n",
    "\n",
    "df1_discrete_by_unit = df1_discrete.groupby(['UNIT', 'STATION'], as_index=False).sum()\n",
    "df2_discrete_by_unit = df2_discrete.groupby(['UNIT', 'STATION'], as_index=False).sum()\n",
    "df3_discrete_by_unit = df3_discrete.groupby(['UNIT', 'STATION'], as_index=False).sum()\n",
    "df4_discrete_by_unit = df4_discrete.groupby(['UNIT', 'STATION'], as_index=False).sum()\n",
    "df5_discrete_by_unit = df5_discrete.groupby(['UNIT', 'STATION'], as_index=False).sum()\n",
    "df6_discrete_by_unit = df6_discrete.groupby(['UNIT', 'STATION'], as_index=False).sum()"
   ]
  },
  {
   "cell_type": "code",
   "execution_count": 30,
   "metadata": {},
   "outputs": [
    {
     "data": {
      "text/html": [
       "<div>\n",
       "<style scoped>\n",
       "    .dataframe tbody tr th:only-of-type {\n",
       "        vertical-align: middle;\n",
       "    }\n",
       "\n",
       "    .dataframe tbody tr th {\n",
       "        vertical-align: top;\n",
       "    }\n",
       "\n",
       "    .dataframe thead th {\n",
       "        text-align: right;\n",
       "    }\n",
       "</style>\n",
       "<table border=\"1\" class=\"dataframe\">\n",
       "  <thead>\n",
       "    <tr style=\"text-align: right;\">\n",
       "      <th></th>\n",
       "      <th>UNIT</th>\n",
       "      <th>STATION</th>\n",
       "      <th>NET</th>\n",
       "    </tr>\n",
       "  </thead>\n",
       "  <tbody>\n",
       "    <tr>\n",
       "      <th>118</th>\n",
       "      <td>R139</td>\n",
       "      <td>CANAL ST</td>\n",
       "      <td>17442</td>\n",
       "    </tr>\n",
       "    <tr>\n",
       "      <th>251</th>\n",
       "      <td>R320</td>\n",
       "      <td>CANAL ST</td>\n",
       "      <td>21581</td>\n",
       "    </tr>\n",
       "    <tr>\n",
       "      <th>347</th>\n",
       "      <td>R462</td>\n",
       "      <td>CANAL ST</td>\n",
       "      <td>489304</td>\n",
       "    </tr>\n",
       "    <tr>\n",
       "      <th>348</th>\n",
       "      <td>R463</td>\n",
       "      <td>CANAL ST</td>\n",
       "      <td>44330</td>\n",
       "    </tr>\n",
       "  </tbody>\n",
       "</table>\n",
       "</div>"
      ],
      "text/plain": [
       "     UNIT   STATION     NET\n",
       "118  R139  CANAL ST   17442\n",
       "251  R320  CANAL ST   21581\n",
       "347  R462  CANAL ST  489304\n",
       "348  R463  CANAL ST   44330"
      ]
     },
     "execution_count": 30,
     "metadata": {},
     "output_type": "execute_result"
    }
   ],
   "source": [
    "df1_discrete_by_unit.loc[df1_discrete_by_unit['STATION'] == 'CANAL ST']"
   ]
  }
 ],
 "metadata": {
  "kernelspec": {
   "display_name": "Python 3",
   "language": "python",
   "name": "python3"
  },
  "language_info": {
   "codemirror_mode": {
    "name": "ipython",
    "version": 3
   },
   "file_extension": ".py",
   "mimetype": "text/x-python",
   "name": "python",
   "nbconvert_exporter": "python",
   "pygments_lexer": "ipython3",
   "version": "3.7.3"
  }
 },
 "nbformat": 4,
 "nbformat_minor": 2
}
